{
 "cells": [
  {
   "cell_type": "markdown",
   "metadata": {},
   "source": [
    "# GraphFrames"
   ]
  },
  {
   "cell_type": "markdown",
   "metadata": {},
   "source": [
    "### Setup"
   ]
  },
  {
   "cell_type": "code",
   "execution_count": 2,
   "metadata": {},
   "outputs": [],
   "source": [
    "# https://spark-packages.org/package/graphframes/graphframes\n",
    "\n",
    "# pyspark --packages graphframes:graphframes:0.7.0-spark2.4-s_2.11\n",
    "\n",
    "# or everytime autoload\n",
    "# cp /opt/spark/spark-2.4.4-bin-hadoop2.7/conf/spark-defaults.conf.template /opt/spark/spark-2.4.4-bin-hadoop2.7/conf/spark-defaults.conf\n",
    "\n",
    "# export SPARK_OPTS=\"--packages graphframes:graphframes:0.7.0-spark2.4-s_2.11\" to bashrc\n",
    "\n",
    "# add spark.jars.packages graphframes:graphframes:0.7.0-spark2.4-s_2.11"
   ]
  },
  {
   "cell_type": "code",
   "execution_count": 3,
   "metadata": {},
   "outputs": [],
   "source": [
    "# Run first time to include graphframe API in jupyter\n",
    "\n",
    "from pyspark import SparkContext\n",
    "\n",
    "sc = SparkContext()\n",
    "sc.addPyFile('/opt/spark/spark-current/jars/graphframes-0.7.0-spark2.4-s_2.11.jar')"
   ]
  },
  {
   "cell_type": "markdown",
   "metadata": {},
   "source": [
    "### Using"
   ]
  },
  {
   "cell_type": "code",
   "execution_count": 17,
   "metadata": {},
   "outputs": [],
   "source": [
    "\n",
    "from pyspark.sql import SparkSession\n",
    "from graphframes import *"
   ]
  },
  {
   "cell_type": "code",
   "execution_count": 19,
   "metadata": {},
   "outputs": [],
   "source": [
    "spark = SparkSession.builder.appName('goose').getOrCreate()"
   ]
  },
  {
   "cell_type": "code",
   "execution_count": 38,
   "metadata": {},
   "outputs": [
    {
     "name": "stdout",
     "output_type": "stream",
     "text": [
      "+---+--------+---------+\n",
      "| id|inDegree|outDegree|\n",
      "+---+--------+---------+\n",
      "|  b|       1|        1|\n",
      "|  a|       1|        1|\n",
      "+---+--------+---------+\n",
      "\n"
     ]
    }
   ],
   "source": [
    "# must have a column 'id'\n",
    "vertices = spark.createDataFrame((\n",
    "    (\"a\", 'Hadoop', 500),\n",
    "    (\"b\", 'Java', 600)\n",
    ")).toDF('id', 'name', 'num')\n",
    "\n",
    "# must have cols 'src', 'dst'\n",
    "edges = spark.createDataFrame((\n",
    "    ('a', 'b', 'also_purchased'), \n",
    "    ('b', 'a', 'looked_at')\n",
    ")).toDF('src', 'dst', 'type')\n",
    "\n",
    "graphDF = GraphFrame(vertices, edges)\n",
    "\n",
    "inDF = graphDF.inDegrees  # row1 with b, row2 with a\n",
    "outDF = graphDF.outDegrees   # row1 with a, row2 with b\n",
    "\n",
    "allDF = inDF.join(outDF, 'id')\n",
    "allDF.show()\n",
    "\n",
    "\n",
    "# graphDF.edges.groupBy({'count', 'id'}).show()\n",
    "# graphDF.edges.filter(\"type == 'also_purchased'\").show()\n",
    "# graphDF.find('(a)-(e1)->(b);(a)-(e2)->(c)').filter('b != c') # (motif pattern) finds all paths that include a user buying a then b and a then c, filter to not repeat edge\n",
    "\n",
    "# # AggregateMessages in GraphFrame API sends data between vertices for compund results (like avearge)\n",
    "# # greatest inDegrees/outDegrees joined is the most visited and least started from\n",
    "\n",
    "# graphDF.bfs(\"name == 'Mark'\", \"age > 10\", maxPathLength=3).show() # breadth first search"
   ]
  },
  {
   "cell_type": "code",
   "execution_count": null,
   "metadata": {},
   "outputs": [],
   "source": []
  }
 ],
 "metadata": {
  "kernelspec": {
   "display_name": "Python (py36)",
   "language": "python",
   "name": "py36"
  },
  "language_info": {
   "codemirror_mode": {
    "name": "ipython",
    "version": 3
   },
   "file_extension": ".py",
   "mimetype": "text/x-python",
   "name": "python",
   "nbconvert_exporter": "python",
   "pygments_lexer": "ipython3",
   "version": "3.6.9"
  }
 },
 "nbformat": 4,
 "nbformat_minor": 2
}
