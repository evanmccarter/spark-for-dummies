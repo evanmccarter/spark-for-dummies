{
 "cells": [
  {
   "cell_type": "code",
   "execution_count": 1,
   "metadata": {},
   "outputs": [],
   "source": [
    "from pyspark.sql import SparkSession\n",
    "\n",
    "spark = SparkSession.builder.appName('kdd99').getOrCreate()"
   ]
  },
  {
   "cell_type": "code",
   "execution_count": 2,
   "metadata": {},
   "outputs": [],
   "source": [
    "br = spark.sparkContext.broadcast(1)"
   ]
  },
  {
   "cell_type": "code",
   "execution_count": 3,
   "metadata": {},
   "outputs": [
    {
     "data": {
      "text/plain": [
       "<pyspark.broadcast.Broadcast at 0x7f7dc55a35c0>"
      ]
     },
     "execution_count": 3,
     "metadata": {},
     "output_type": "execute_result"
    }
   ],
   "source": [
    "br"
   ]
  },
  {
   "cell_type": "code",
   "execution_count": 4,
   "metadata": {},
   "outputs": [
    {
     "data": {
      "text/plain": [
       "1"
      ]
     },
     "execution_count": 4,
     "metadata": {},
     "output_type": "execute_result"
    }
   ],
   "source": [
    "br.value"
   ]
  },
  {
   "cell_type": "code",
   "execution_count": 5,
   "metadata": {},
   "outputs": [],
   "source": [
    "br.unpersist()\n",
    "br.destroy()"
   ]
  },
  {
   "cell_type": "code",
   "execution_count": 6,
   "metadata": {},
   "outputs": [
    {
     "data": {
      "text/plain": [
       "1"
      ]
     },
     "execution_count": 6,
     "metadata": {},
     "output_type": "execute_result"
    }
   ],
   "source": [
    "br.value"
   ]
  },
  {
   "cell_type": "code",
   "execution_count": 11,
   "metadata": {},
   "outputs": [
    {
     "name": "stdout",
     "output_type": "stream",
     "text": [
      "+---+------+---+\n",
      "| id|  name|age|\n",
      "+---+------+---+\n",
      "|  1|  Matt| 21|\n",
      "|  2|Albert| 28|\n",
      "|  3|Walter| 10|\n",
      "+---+------+---+\n",
      "\n",
      "+---+------+\n",
      "| id|salary|\n",
      "+---+------+\n",
      "|  1|  10.2|\n",
      "|  2| 30.45|\n",
      "|  3|  5.32|\n",
      "+---+------+\n",
      "\n",
      "+---+------+---+------+\n",
      "| id|  name|age|salary|\n",
      "+---+------+---+------+\n",
      "|  1|  Matt| 21|  10.2|\n",
      "|  3|Walter| 10|  5.32|\n",
      "|  2|Albert| 28| 30.45|\n",
      "+---+------+---+------+\n",
      "\n",
      "+---+------+---+------+\n",
      "| id|  name|age|salary|\n",
      "+---+------+---+------+\n",
      "|  1|  Matt| 21|  10.2|\n",
      "|  2|Albert| 28| 30.45|\n",
      "|  3|Walter| 10|  5.32|\n",
      "+---+------+---+------+\n",
      "\n"
     ]
    }
   ],
   "source": [
    "from pyspark.sql.functions import broadcast\n",
    "\n",
    "data1 = spark.createDataFrame([(1, 'Matt', 21), (2, 'Albert', 28), (3, 'Walter', 10)], ['id', 'name', 'age'])\n",
    "data1.show()\n",
    "\n",
    "data2 = spark.createDataFrame([(1, 10.20), (2, 30.45), (3, 5.32)], ['id', 'salary'])\n",
    "data2.show()\n",
    "\n",
    "data = data1.join(data2, 'id')\n",
    "data.show()\n",
    "\n",
    "data = data1.join(broadcast(data2), 'id')\n",
    "data.show()\n",
    "\n",
    "# data1.join(broadcast(data2), data1.id == data2.id)"
   ]
  },
  {
   "cell_type": "code",
   "execution_count": null,
   "metadata": {},
   "outputs": [],
   "source": []
  }
 ],
 "metadata": {
  "kernelspec": {
   "display_name": "Python (py36)",
   "language": "python",
   "name": "py36"
  },
  "language_info": {
   "codemirror_mode": {
    "name": "ipython",
    "version": 3
   },
   "file_extension": ".py",
   "mimetype": "text/x-python",
   "name": "python",
   "nbconvert_exporter": "python",
   "pygments_lexer": "ipython3",
   "version": "3.6.9"
  }
 },
 "nbformat": 4,
 "nbformat_minor": 2
}
