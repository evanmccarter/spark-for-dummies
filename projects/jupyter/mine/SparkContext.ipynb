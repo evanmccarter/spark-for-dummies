{
 "cells": [
  {
   "cell_type": "markdown",
   "metadata": {},
   "source": [
    "# Spark Context"
   ]
  },
  {
   "cell_type": "markdown",
   "metadata": {},
   "source": [
    "### Creating, and parallelizing data"
   ]
  },
  {
   "cell_type": "code",
   "execution_count": 22,
   "metadata": {},
   "outputs": [
    {
     "name": "stdout",
     "output_type": "stream",
     "text": [
      "+----------------------------------+\n",
      "|text                              |\n",
      "+----------------------------------+\n",
      "|This here is a meaningful sentence|\n",
      "+----------------------------------+\n",
      "\n",
      "+----------------------------------+-----------------------------------------+\n",
      "|text                              |words                                    |\n",
      "+----------------------------------+-----------------------------------------+\n",
      "|This here is a meaningful sentence|[This, here, is, a, meaningful, sentence]|\n",
      "+----------------------------------+-----------------------------------------+\n",
      "\n",
      "+----------------------------------+----------+\n",
      "|text                              |word      |\n",
      "+----------------------------------+----------+\n",
      "|This here is a meaningful sentence|This      |\n",
      "|This here is a meaningful sentence|here      |\n",
      "|This here is a meaningful sentence|is        |\n",
      "|This here is a meaningful sentence|a         |\n",
      "|This here is a meaningful sentence|meaningful|\n",
      "|This here is a meaningful sentence|sentence  |\n",
      "+----------------------------------+----------+\n",
      "\n"
     ]
    }
   ],
   "source": [
    "# conda create -n py36 python=3.6\n",
    "# conda activate py36\n",
    "# python -m ipykernel install --user --name py36 --display-name \"Python (py36)\"\n",
    "\n",
    "# import sys\n",
    "# print(sys.version)\n",
    "\n",
    "# Ensure ^ says 3.6\n",
    "\n",
    "from pyspark.sql import SparkSession\n",
    "from pyspark.sql import Row\n",
    "from pyspark.sql.functions import *\n",
    "\n",
    "spark = SparkSession.builder.appName('a').getOrCreate()\n",
    "type(spark)\n",
    "\n",
    "\n",
    "data = Row('This here is a meaningful sentence')\n",
    "\n",
    "df = spark.createDataFrame([data], ['text'])\n",
    "df.show(10, False)\n",
    "\n",
    "df = df.withColumn('words', split(col('text'), \" \"))\n",
    "df.show(10, False)\n",
    "\n",
    "df = df.withColumn('word', explode(split(col('text'), \" \")))\n",
    "df.select('text', 'word').show(30, False)\n"
   ]
  },
  {
   "cell_type": "code",
   "execution_count": null,
   "metadata": {},
   "outputs": [],
   "source": []
  }
 ],
 "metadata": {
  "kernelspec": {
   "display_name": "Python (py36)",
   "language": "python",
   "name": "py36"
  },
  "language_info": {
   "codemirror_mode": {
    "name": "ipython",
    "version": 3
   },
   "file_extension": ".py",
   "mimetype": "text/x-python",
   "name": "python",
   "nbconvert_exporter": "python",
   "pygments_lexer": "ipython3",
   "version": "3.6.9"
  }
 },
 "nbformat": 4,
 "nbformat_minor": 2
}
