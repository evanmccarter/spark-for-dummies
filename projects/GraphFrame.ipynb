{
 "cells": [
  {
   "cell_type": "markdown",
   "metadata": {},
   "source": [
    "# GraphFrames"
   ]
  },
  {
   "cell_type": "code",
   "execution_count": null,
   "metadata": {},
   "outputs": [],
   "source": [
    "from graphframes import *"
   ]
  },
  {
   "cell_type": "markdown",
   "metadata": {},
   "source": [
    "### Transformations"
   ]
  },
  {
   "cell_type": "code",
   "execution_count": null,
   "metadata": {},
   "outputs": [],
   "source": [
    "vertices = sc.createDataFrame((\n",
    "    (\"a\", 'Hadoop', 500),\n",
    "    (\"b\", 'Java', 600)\n",
    ")).toDF('id', 'name', 'num')\n",
    "\n",
    "edges = sc.createDataFrame((\n",
    "    ('a', 'b', 'also_purchased'), \n",
    "    ('b', 'a', 'looked_at')\n",
    ")).toDF('src', 'dest', 'type')\n",
    "\n",
    "graphDF = GraphFrame(vertices, edges)\n",
    "\n",
    "graphDF.inDegrees # row1 with b, row2 with a\n",
    "graphDF.outDegrees # row1 with a, row2 with b\n",
    "graphDF.edges.groupBy({'count', 'id'}).show()\n",
    "graphDF.edges.filter(\"type == 'also_purchased'\").show()\n",
    "graphDF.find('(a)-(e1)->(b);(a)-(e2)->(c)').filter('b != c') # finds all paths that include a user buying a then b and a then c, filter to not repeat edge\n"
   ]
  }
 ],
 "metadata": {
  "kernelspec": {
   "display_name": "Python 3",
   "language": "python",
   "name": "python3"
  },
  "language_info": {
   "codemirror_mode": {
    "name": "ipython",
    "version": 3
   },
   "file_extension": ".py",
   "mimetype": "text/x-python",
   "name": "python",
   "nbconvert_exporter": "python",
   "pygments_lexer": "ipython3",
   "version": "3.7.3"
  }
 },
 "nbformat": 4,
 "nbformat_minor": 2
}
